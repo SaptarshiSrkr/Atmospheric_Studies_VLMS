{
 "cells": [
  {
   "cell_type": "code",
   "execution_count": 1,
   "id": "f70f298a",
   "metadata": {},
   "outputs": [],
   "source": [
    "from spectrum_interpolate import spec_interpolate"
   ]
  },
  {
   "cell_type": "markdown",
   "id": "2fa67507",
   "metadata": {},
   "source": [
    "# Returning Available Spectrum"
   ]
  },
  {
   "cell_type": "code",
   "execution_count": 2,
   "id": "12a994b2",
   "metadata": {},
   "outputs": [
    {
     "data": {
      "text/plain": [
       "True"
      ]
     },
     "execution_count": 2,
     "metadata": {},
     "output_type": "execute_result"
    }
   ],
   "source": [
    "spec_interpolate(3000,4,-1)['flux'].mean() == 1"
   ]
  },
  {
   "cell_type": "code",
   "execution_count": 3,
   "id": "31ba6ecd",
   "metadata": {},
   "outputs": [
    {
     "data": {
      "text/plain": [
       "True"
      ]
     },
     "execution_count": 3,
     "metadata": {},
     "output_type": "execute_result"
    }
   ],
   "source": [
    "spec_interpolate(3000,4,-2)['flux'].mean() == 3"
   ]
  },
  {
   "cell_type": "code",
   "execution_count": 4,
   "id": "5c125119",
   "metadata": {},
   "outputs": [
    {
     "data": {
      "text/plain": [
       "True"
      ]
     },
     "execution_count": 4,
     "metadata": {},
     "output_type": "execute_result"
    }
   ],
   "source": [
    "spec_interpolate(3000,5,-1)['flux'].mean() == 8"
   ]
  },
  {
   "cell_type": "code",
   "execution_count": 5,
   "id": "cf85f66d",
   "metadata": {},
   "outputs": [
    {
     "data": {
      "text/plain": [
       "True"
      ]
     },
     "execution_count": 5,
     "metadata": {},
     "output_type": "execute_result"
    }
   ],
   "source": [
    "spec_interpolate(3000,5,-2)['flux'].mean() == 4"
   ]
  },
  {
   "cell_type": "code",
   "execution_count": 6,
   "id": "e5205935",
   "metadata": {},
   "outputs": [
    {
     "data": {
      "text/plain": [
       "True"
      ]
     },
     "execution_count": 6,
     "metadata": {},
     "output_type": "execute_result"
    }
   ],
   "source": [
    "spec_interpolate(4000,4,-1)['flux'].mean() == 2"
   ]
  },
  {
   "cell_type": "code",
   "execution_count": 7,
   "id": "257ba79d",
   "metadata": {},
   "outputs": [
    {
     "data": {
      "text/plain": [
       "True"
      ]
     },
     "execution_count": 7,
     "metadata": {},
     "output_type": "execute_result"
    }
   ],
   "source": [
    "spec_interpolate(4000,4,-2)['flux'].mean() == 5"
   ]
  },
  {
   "cell_type": "code",
   "execution_count": 8,
   "id": "a343bc1e",
   "metadata": {},
   "outputs": [
    {
     "data": {
      "text/plain": [
       "True"
      ]
     },
     "execution_count": 8,
     "metadata": {},
     "output_type": "execute_result"
    }
   ],
   "source": [
    "spec_interpolate(4000,5,-1)['flux'].mean() == 7"
   ]
  },
  {
   "cell_type": "code",
   "execution_count": 9,
   "id": "66c42804",
   "metadata": {},
   "outputs": [
    {
     "data": {
      "text/plain": [
       "True"
      ]
     },
     "execution_count": 9,
     "metadata": {},
     "output_type": "execute_result"
    }
   ],
   "source": [
    "spec_interpolate(4000,5,-2)['flux'].mean() == 6"
   ]
  },
  {
   "cell_type": "markdown",
   "id": "6e8a99a7",
   "metadata": {},
   "source": [
    "# 1D Interpolation Test"
   ]
  },
  {
   "cell_type": "code",
   "execution_count": 10,
   "id": "08aeadbf",
   "metadata": {},
   "outputs": [
    {
     "data": {
      "text/plain": [
       "True"
      ]
     },
     "execution_count": 10,
     "metadata": {},
     "output_type": "execute_result"
    }
   ],
   "source": [
    "spec_interpolate(3250,5,-1)['flux'].mean() == 7.75"
   ]
  },
  {
   "cell_type": "code",
   "execution_count": 11,
   "id": "75e7a6be",
   "metadata": {},
   "outputs": [
    {
     "data": {
      "text/plain": [
       "True"
      ]
     },
     "execution_count": 11,
     "metadata": {},
     "output_type": "execute_result"
    }
   ],
   "source": [
    "spec_interpolate(4000,4.25,-1)['flux'].mean() == 3.25"
   ]
  },
  {
   "cell_type": "code",
   "execution_count": 12,
   "id": "ffd644bb",
   "metadata": {},
   "outputs": [
    {
     "data": {
      "text/plain": [
       "True"
      ]
     },
     "execution_count": 12,
     "metadata": {},
     "output_type": "execute_result"
    }
   ],
   "source": [
    "spec_interpolate(4000,5,-1.25)['flux'].mean() == 6.75"
   ]
  },
  {
   "cell_type": "markdown",
   "id": "d86af2f1",
   "metadata": {},
   "source": [
    "# 2D Interpolation Test"
   ]
  },
  {
   "cell_type": "code",
   "execution_count": 13,
   "id": "314291fa",
   "metadata": {},
   "outputs": [
    {
     "data": {
      "text/plain": [
       "True"
      ]
     },
     "execution_count": 13,
     "metadata": {},
     "output_type": "execute_result"
    }
   ],
   "source": [
    "spec_interpolate(3250,4.25,-1)['flux'].mean() == 2.875"
   ]
  },
  {
   "cell_type": "code",
   "execution_count": 14,
   "id": "bd179d42",
   "metadata": {},
   "outputs": [
    {
     "data": {
      "text/plain": [
       "True"
      ]
     },
     "execution_count": 14,
     "metadata": {},
     "output_type": "execute_result"
    }
   ],
   "source": [
    "spec_interpolate(3250,4.75,-1)['flux'].mean() == 6.125"
   ]
  },
  {
   "cell_type": "code",
   "execution_count": 15,
   "id": "519f22ff",
   "metadata": {},
   "outputs": [
    {
     "data": {
      "text/plain": [
       "True"
      ]
     },
     "execution_count": 15,
     "metadata": {},
     "output_type": "execute_result"
    }
   ],
   "source": [
    "spec_interpolate(3250,4,-1.25)['flux'].mean() == 1.8125"
   ]
  },
  {
   "cell_type": "code",
   "execution_count": 16,
   "id": "10ec8f22",
   "metadata": {},
   "outputs": [
    {
     "data": {
      "text/plain": [
       "True"
      ]
     },
     "execution_count": 16,
     "metadata": {},
     "output_type": "execute_result"
    }
   ],
   "source": [
    "spec_interpolate(3250,4,-1.75)['flux'].mean() == 2.9375"
   ]
  },
  {
   "cell_type": "code",
   "execution_count": 17,
   "id": "5fdb6354",
   "metadata": {},
   "outputs": [
    {
     "data": {
      "text/plain": [
       "True"
      ]
     },
     "execution_count": 17,
     "metadata": {},
     "output_type": "execute_result"
    }
   ],
   "source": [
    "spec_interpolate(3000,4.25,-1.25)['flux'].mean() == 2.875"
   ]
  },
  {
   "cell_type": "code",
   "execution_count": 18,
   "id": "d8983b46",
   "metadata": {},
   "outputs": [
    {
     "data": {
      "text/plain": [
       "True"
      ]
     },
     "execution_count": 18,
     "metadata": {},
     "output_type": "execute_result"
    }
   ],
   "source": [
    "spec_interpolate(3000,4.75,-1.25)['flux'].mean() == 5.625"
   ]
  },
  {
   "cell_type": "markdown",
   "id": "760a8b53",
   "metadata": {},
   "source": [
    "# 3D Interpolation Test"
   ]
  },
  {
   "cell_type": "code",
   "execution_count": 19,
   "id": "e83d32a5",
   "metadata": {},
   "outputs": [
    {
     "data": {
      "text/plain": [
       "True"
      ]
     },
     "execution_count": 19,
     "metadata": {},
     "output_type": "execute_result"
    }
   ],
   "source": [
    "spec_interpolate(3500,4.5,-1.5)['flux'].mean() == 4.5"
   ]
  },
  {
   "cell_type": "code",
   "execution_count": 20,
   "id": "9c7dcb15",
   "metadata": {},
   "outputs": [
    {
     "data": {
      "text/plain": [
       "True"
      ]
     },
     "execution_count": 20,
     "metadata": {},
     "output_type": "execute_result"
    }
   ],
   "source": [
    "spec_interpolate(3250,4.25,-1.25)['flux'].mean() == 3.09375"
   ]
  },
  {
   "cell_type": "code",
   "execution_count": 21,
   "id": "55a6d38d",
   "metadata": {},
   "outputs": [
    {
     "data": {
      "text/plain": [
       "True"
      ]
     },
     "execution_count": 21,
     "metadata": {},
     "output_type": "execute_result"
    }
   ],
   "source": [
    "spec_interpolate(3250,4.25,-1.75)['flux'].mean() == 3.53125"
   ]
  },
  {
   "cell_type": "code",
   "execution_count": 22,
   "id": "d3fe8ffe",
   "metadata": {},
   "outputs": [
    {
     "data": {
      "text/plain": [
       "True"
      ]
     },
     "execution_count": 22,
     "metadata": {},
     "output_type": "execute_result"
    }
   ],
   "source": [
    "spec_interpolate(3750,4.25,-1.25)['flux'].mean() == 3.53125"
   ]
  },
  {
   "cell_type": "code",
   "execution_count": 23,
   "id": "517ea867",
   "metadata": {},
   "outputs": [
    {
     "data": {
      "text/plain": [
       "True"
      ]
     },
     "execution_count": 23,
     "metadata": {},
     "output_type": "execute_result"
    }
   ],
   "source": [
    "spec_interpolate(3750,4.25,-1.75)['flux'].mean() == 4.34375"
   ]
  },
  {
   "cell_type": "code",
   "execution_count": 24,
   "id": "f5f3540a",
   "metadata": {},
   "outputs": [
    {
     "data": {
      "text/plain": [
       "True"
      ]
     },
     "execution_count": 24,
     "metadata": {},
     "output_type": "execute_result"
    }
   ],
   "source": [
    "spec_interpolate(3250,4.75,-1.25)['flux'].mean() == 5.65625"
   ]
  },
  {
   "cell_type": "code",
   "execution_count": 25,
   "id": "3f1addb7",
   "metadata": {},
   "outputs": [
    {
     "data": {
      "text/plain": [
       "True"
      ]
     },
     "execution_count": 25,
     "metadata": {},
     "output_type": "execute_result"
    }
   ],
   "source": [
    "spec_interpolate(3250,4.75,-1.75)['flux'].mean() == 4.71875"
   ]
  },
  {
   "cell_type": "code",
   "execution_count": 26,
   "id": "f21bfbaa",
   "metadata": {},
   "outputs": [
    {
     "data": {
      "text/plain": [
       "True"
      ]
     },
     "execution_count": 26,
     "metadata": {},
     "output_type": "execute_result"
    }
   ],
   "source": [
    "spec_interpolate(3750,4.75,-1.25)['flux'].mean() == 5.71875"
   ]
  },
  {
   "cell_type": "code",
   "execution_count": 27,
   "id": "08c616b9",
   "metadata": {},
   "outputs": [
    {
     "data": {
      "text/plain": [
       "True"
      ]
     },
     "execution_count": 27,
     "metadata": {},
     "output_type": "execute_result"
    }
   ],
   "source": [
    "spec_interpolate(3750,4.75,-1.75)['flux'].mean() == 5.40625"
   ]
  },
  {
   "cell_type": "code",
   "execution_count": null,
   "id": "c74e3fea",
   "metadata": {},
   "outputs": [],
   "source": []
  }
 ],
 "metadata": {
  "kernelspec": {
   "display_name": "Python 3 (ipykernel)",
   "language": "python",
   "name": "python3"
  },
  "language_info": {
   "codemirror_mode": {
    "name": "ipython",
    "version": 3
   },
   "file_extension": ".py",
   "mimetype": "text/x-python",
   "name": "python",
   "nbconvert_exporter": "python",
   "pygments_lexer": "ipython3",
   "version": "3.8.8"
  }
 },
 "nbformat": 4,
 "nbformat_minor": 5
}
