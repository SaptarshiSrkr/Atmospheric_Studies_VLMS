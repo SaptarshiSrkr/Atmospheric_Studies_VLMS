{
 "cells": [
  {
   "cell_type": "code",
   "execution_count": 2,
   "id": "de382d6b",
   "metadata": {},
   "outputs": [],
   "source": [
    "from interpolation_abun import abun_interpolate"
   ]
  },
  {
   "cell_type": "markdown",
   "id": "f7b78aa6",
   "metadata": {},
   "source": [
    "# Returning Available Spectrum"
   ]
  },
  {
   "cell_type": "code",
   "execution_count": 5,
   "id": "cd3d1b4a",
   "metadata": {},
   "outputs": [
    {
     "data": {
      "text/plain": [
       "True"
      ]
     },
     "execution_count": 5,
     "metadata": {},
     "output_type": "execute_result"
    }
   ],
   "source": [
    "abun_interpolate(4.7,'Aa',1)['flux'].mean()==1"
   ]
  },
  {
   "cell_type": "code",
   "execution_count": 6,
   "id": "f3acd86b",
   "metadata": {},
   "outputs": [
    {
     "data": {
      "text/plain": [
       "True"
      ]
     },
     "execution_count": 6,
     "metadata": {},
     "output_type": "execute_result"
    }
   ],
   "source": [
    "abun_interpolate(4.8,'Aa',1)['flux'].mean()==4"
   ]
  },
  {
   "cell_type": "code",
   "execution_count": 11,
   "id": "7b9a98c5",
   "metadata": {},
   "outputs": [
    {
     "data": {
      "text/plain": [
       "True"
      ]
     },
     "execution_count": 11,
     "metadata": {},
     "output_type": "execute_result"
    }
   ],
   "source": [
    "abun_interpolate(4.7,'Aa',2)['flux'].mean()==2"
   ]
  },
  {
   "cell_type": "code",
   "execution_count": 13,
   "id": "7f83e26d",
   "metadata": {},
   "outputs": [
    {
     "data": {
      "text/plain": [
       "True"
      ]
     },
     "execution_count": 13,
     "metadata": {},
     "output_type": "execute_result"
    }
   ],
   "source": [
    "abun_interpolate(4.8,'Aa',2)['flux'].mean()==5"
   ]
  },
  {
   "cell_type": "code",
   "execution_count": 14,
   "id": "3bcdc644",
   "metadata": {},
   "outputs": [
    {
     "data": {
      "text/plain": [
       "True"
      ]
     },
     "execution_count": 14,
     "metadata": {},
     "output_type": "execute_result"
    }
   ],
   "source": [
    "abun_interpolate(4.7,'Aa',3)['flux'].mean()==3"
   ]
  },
  {
   "cell_type": "code",
   "execution_count": 19,
   "id": "271e7df2",
   "metadata": {},
   "outputs": [
    {
     "data": {
      "text/plain": [
       "True"
      ]
     },
     "execution_count": 19,
     "metadata": {},
     "output_type": "execute_result"
    }
   ],
   "source": [
    "abun_interpolate(4.7,'Bb',1)['flux'].mean()==10"
   ]
  },
  {
   "cell_type": "code",
   "execution_count": 20,
   "id": "aeb0b097",
   "metadata": {},
   "outputs": [
    {
     "data": {
      "text/plain": [
       "True"
      ]
     },
     "execution_count": 20,
     "metadata": {},
     "output_type": "execute_result"
    }
   ],
   "source": [
    "abun_interpolate(4.8,'Bb',1)['flux'].mean()==7"
   ]
  },
  {
   "cell_type": "code",
   "execution_count": 21,
   "id": "54d6e0f8",
   "metadata": {},
   "outputs": [
    {
     "data": {
      "text/plain": [
       "True"
      ]
     },
     "execution_count": 21,
     "metadata": {},
     "output_type": "execute_result"
    }
   ],
   "source": [
    "abun_interpolate(4.7,'Bb',2)['flux'].mean()==11"
   ]
  },
  {
   "cell_type": "code",
   "execution_count": 22,
   "id": "04171e50",
   "metadata": {},
   "outputs": [
    {
     "data": {
      "text/plain": [
       "True"
      ]
     },
     "execution_count": 22,
     "metadata": {},
     "output_type": "execute_result"
    }
   ],
   "source": [
    "abun_interpolate(4.8,'Bb',2)['flux'].mean()==8"
   ]
  },
  {
   "cell_type": "code",
   "execution_count": 23,
   "id": "9b62b66b",
   "metadata": {},
   "outputs": [
    {
     "data": {
      "text/plain": [
       "True"
      ]
     },
     "execution_count": 23,
     "metadata": {},
     "output_type": "execute_result"
    }
   ],
   "source": [
    "abun_interpolate(4.7,'Bb',3)['flux'].mean()==12"
   ]
  },
  {
   "cell_type": "code",
   "execution_count": 24,
   "id": "bbf1529b",
   "metadata": {},
   "outputs": [
    {
     "data": {
      "text/plain": [
       "True"
      ]
     },
     "execution_count": 24,
     "metadata": {},
     "output_type": "execute_result"
    }
   ],
   "source": [
    "abun_interpolate(4.8,'Bb',3)['flux'].mean()==9"
   ]
  },
  {
   "cell_type": "markdown",
   "id": "223aa3f6",
   "metadata": {},
   "source": [
    "# 1D MidPoint Interpolation"
   ]
  },
  {
   "cell_type": "code",
   "execution_count": 25,
   "id": "70156c22",
   "metadata": {},
   "outputs": [
    {
     "data": {
      "text/plain": [
       "True"
      ]
     },
     "execution_count": 25,
     "metadata": {},
     "output_type": "execute_result"
    }
   ],
   "source": [
    "abun_interpolate(4.7,'Aa',1.5)['flux'].mean()==1.5"
   ]
  },
  {
   "cell_type": "code",
   "execution_count": 26,
   "id": "7e19fda6",
   "metadata": {},
   "outputs": [
    {
     "data": {
      "text/plain": [
       "True"
      ]
     },
     "execution_count": 26,
     "metadata": {},
     "output_type": "execute_result"
    }
   ],
   "source": [
    "abun_interpolate(4.8,'Aa',1.5)['flux'].mean()==4.5"
   ]
  },
  {
   "cell_type": "code",
   "execution_count": 27,
   "id": "c60b4b13",
   "metadata": {},
   "outputs": [
    {
     "data": {
      "text/plain": [
       "True"
      ]
     },
     "execution_count": 27,
     "metadata": {},
     "output_type": "execute_result"
    }
   ],
   "source": [
    "abun_interpolate(4.7,'Aa',2.5)['flux'].mean()==2.5"
   ]
  },
  {
   "cell_type": "code",
   "execution_count": 28,
   "id": "a3671d28",
   "metadata": {},
   "outputs": [
    {
     "data": {
      "text/plain": [
       "True"
      ]
     },
     "execution_count": 28,
     "metadata": {},
     "output_type": "execute_result"
    }
   ],
   "source": [
    "abun_interpolate(4.8,'Aa',2.5)['flux'].mean()==5.5"
   ]
  },
  {
   "cell_type": "code",
   "execution_count": 29,
   "id": "163e084d",
   "metadata": {},
   "outputs": [
    {
     "data": {
      "text/plain": [
       "True"
      ]
     },
     "execution_count": 29,
     "metadata": {},
     "output_type": "execute_result"
    }
   ],
   "source": [
    "abun_interpolate(4.7,'Bb',1.5)['flux'].mean()==10.5"
   ]
  },
  {
   "cell_type": "code",
   "execution_count": 30,
   "id": "2bd559f7",
   "metadata": {},
   "outputs": [
    {
     "data": {
      "text/plain": [
       "True"
      ]
     },
     "execution_count": 30,
     "metadata": {},
     "output_type": "execute_result"
    }
   ],
   "source": [
    "abun_interpolate(4.8,'Bb',1.5)['flux'].mean()==7.5"
   ]
  },
  {
   "cell_type": "code",
   "execution_count": 31,
   "id": "d4b0baad",
   "metadata": {},
   "outputs": [
    {
     "data": {
      "text/plain": [
       "True"
      ]
     },
     "execution_count": 31,
     "metadata": {},
     "output_type": "execute_result"
    }
   ],
   "source": [
    "abun_interpolate(4.7,'Bb',2.5)['flux'].mean()==11.5"
   ]
  },
  {
   "cell_type": "code",
   "execution_count": 32,
   "id": "6b222398",
   "metadata": {},
   "outputs": [
    {
     "data": {
      "text/plain": [
       "True"
      ]
     },
     "execution_count": 32,
     "metadata": {},
     "output_type": "execute_result"
    }
   ],
   "source": [
    "abun_interpolate(4.8,'Bb',2.5)['flux'].mean()==8.5"
   ]
  },
  {
   "cell_type": "code",
   "execution_count": null,
   "id": "abf14776",
   "metadata": {},
   "outputs": [],
   "source": []
  }
 ],
 "metadata": {
  "kernelspec": {
   "display_name": "Python 3 (ipykernel)",
   "language": "python",
   "name": "python3"
  },
  "language_info": {
   "codemirror_mode": {
    "name": "ipython",
    "version": 3
   },
   "file_extension": ".py",
   "mimetype": "text/x-python",
   "name": "python",
   "nbconvert_exporter": "python",
   "pygments_lexer": "ipython3",
   "version": "3.9.12"
  }
 },
 "nbformat": 4,
 "nbformat_minor": 5
}
